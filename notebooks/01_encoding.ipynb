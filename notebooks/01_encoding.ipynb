{
 "cells": [
  {
   "cell_type": "code",
   "execution_count": 1,
   "metadata": {},
   "outputs": [],
   "source": [
    "import requests"
   ]
  },
  {
   "cell_type": "code",
   "execution_count": 19,
   "metadata": {},
   "outputs": [],
   "source": [
    "response = requests.get(\"https://raw.githubusercontent.com/bitcoin/bips/master/bip-0039/english.txt\")\n",
    "content = response.content.decode()\n",
    "words = content.splitlines()"
   ]
  },
  {
   "cell_type": "code",
   "execution_count": 60,
   "metadata": {},
   "outputs": [],
   "source": [
    "ahv_number = '756.4562.7292.65'"
   ]
  },
  {
   "cell_type": "code",
   "execution_count": 78,
   "metadata": {},
   "outputs": [
    {
     "data": {
      "text/plain": [
       "5"
      ]
     },
     "execution_count": 78,
     "metadata": {},
     "output_type": "execute_result"
    }
   ],
   "source": [
    "def compute_check_digit(ahv_number):\n",
    "    number_string = ahv_number.replace('.', '')[0:12]\n",
    "    weights = [(i%2)*2+1 for i in range(12)]\n",
    "    number_digits = [int(c) for c in number_string]\n",
    "    check_sum = sum([w*d for w, d in zip(weights, number_digits)])\n",
    "    check_sum_mod10 = check_sum%10\n",
    "    return (10 - check_sum_mod10) if check_sum_mod10 > 0 else check_sum_mod10\n",
    "\n",
    "compute_check_digit(ahv_number)"
   ]
  },
  {
   "cell_type": "code",
   "execution_count": 100,
   "metadata": {},
   "outputs": [
    {
     "data": {
      "text/plain": [
       "[108, 1605, 1054]"
      ]
     },
     "execution_count": 100,
     "metadata": {},
     "output_type": "execute_result"
    }
   ],
   "source": [
    "def encode_base_2048(ahv_number):\n",
    "    subject_id = ahv_number.replace('.', '')[3:12]\n",
    "    subject_number = int(subject_id)\n",
    "    encoding = []\n",
    "    while subject_number > 0:\n",
    "        subject_number, remainder = divmod(subject_number, 2048)\n",
    "        encoding.append(remainder)\n",
    "    \n",
    "    return encoding[::-1]\n",
    "\n",
    "encode_base_2048(ahv_number)"
   ]
  },
  {
   "cell_type": "code",
   "execution_count": 101,
   "metadata": {},
   "outputs": [
    {
     "data": {
      "text/plain": [
       "['assault', 'silly', 'long']"
      ]
     },
     "execution_count": 101,
     "metadata": {},
     "output_type": "execute_result"
    }
   ],
   "source": [
    "def encode_words(number_base_2048):\n",
    "    return [words[j] for j in number_base_2048]\n",
    "\n",
    "encode_words(encode_base_2048(ahv_number))"
   ]
  },
  {
   "cell_type": "code",
   "execution_count": null,
   "metadata": {},
   "outputs": [],
   "source": []
  }
 ],
 "metadata": {
  "kernelspec": {
   "display_name": "base",
   "language": "python",
   "name": "python3"
  },
  "language_info": {
   "codemirror_mode": {
    "name": "ipython",
    "version": 3
   },
   "file_extension": ".py",
   "mimetype": "text/x-python",
   "name": "python",
   "nbconvert_exporter": "python",
   "pygments_lexer": "ipython3",
   "version": "3.9.7"
  },
  "orig_nbformat": 4
 },
 "nbformat": 4,
 "nbformat_minor": 2
}
